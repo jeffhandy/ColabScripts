{
  "nbformat": 4,
  "nbformat_minor": 0,
  "metadata": {
    "colab": {
      "provenance": [],
      "gpuType": "T4",
      "include_colab_link": true
    },
    "kernelspec": {
      "name": "python3",
      "display_name": "Python 3"
    },
    "language_info": {
      "name": "python"
    },
    "accelerator": "GPU"
  },
  "cells": [
    {
      "cell_type": "markdown",
      "metadata": {
        "id": "view-in-github",
        "colab_type": "text"
      },
      "source": [
        "<a href=\"https://colab.research.google.com/github/jeffhandy/ColabScripts/blob/main/Convert_YOLO_to_CoreML.ipynb\" target=\"_parent\"><img src=\"https://colab.research.google.com/assets/colab-badge.svg\" alt=\"Open In Colab\"/></a>"
      ]
    },
    {
      "cell_type": "markdown",
      "metadata": {
        "id": "hN0thoaDX7i0"
      },
      "source": [
        "## Instal Core ML Tools"
      ]
    },
    {
      "cell_type": "code",
      "metadata": {
        "id": "XolwyUX1h0CZ"
      },
      "source": [
        "!pip install --upgrade coremltools"
      ],
      "execution_count": null,
      "outputs": []
    },
    {
      "cell_type": "code",
      "source": [
        "!pip install ultralytics"
      ],
      "metadata": {
        "id": "Ct_6_k-MERwB"
      },
      "execution_count": null,
      "outputs": []
    },
    {
      "cell_type": "code",
      "source": [
        "MODEL_ID = \"mshamrai/yolov8x-visdrone\"\n",
        "MODEL_NAME = MODEL_ID.split('/')[-1]\n",
        "!git lfs install\n",
        "!git clone https://huggingface.co/{MODEL_ID}"
      ],
      "metadata": {
        "id": "rov0flWVpqry"
      },
      "execution_count": null,
      "outputs": []
    },
    {
      "cell_type": "code",
      "source": [
        "MODEL_ID = \"mshamrai/yolov8x-visdrone\"\n",
        "MODEL_NAME = MODEL_ID.split('/')[-1]"
      ],
      "metadata": {
        "id": "gOdZHxyiR4ka"
      },
      "execution_count": null,
      "outputs": []
    },
    {
      "cell_type": "code",
      "source": [
        "from ultralytics import YOLO\n",
        "\n",
        "model=YOLO(f\"{MODEL_NAME}/best.pt\")\n",
        "\n",
        "model.export(format='coreml',nms=True)"
      ],
      "metadata": {
        "id": "kIuU-PHFyU3E"
      },
      "execution_count": null,
      "outputs": []
    },
    {
      "cell_type": "code",
      "source": [
        "%cd /content/$MODEL_NAME\n",
        "!zip -r {MODEL_NAME}.zip ."
      ],
      "metadata": {
        "id": "8Ctj3zR1Q67F"
      },
      "execution_count": null,
      "outputs": []
    },
    {
      "cell_type": "code",
      "source": [
        "from google.colab import drive\n",
        "drive.mount('/content/drive')"
      ],
      "metadata": {
        "id": "YaOgMyxPUHvM"
      },
      "execution_count": null,
      "outputs": []
    },
    {
      "cell_type": "code",
      "source": [
        "!cp {MODEL_NAME}.zip /content/drive/MyDrive/"
      ],
      "metadata": {
        "id": "2tMhWkdlufWZ"
      },
      "execution_count": 23,
      "outputs": []
    },
    {
      "cell_type": "code",
      "source": [
        "from google.colab import files\n",
        "files.download(f\"{MODEL_NAME}.zip\")"
      ],
      "metadata": {
        "id": "37w-HxwhTfkG"
      },
      "execution_count": null,
      "outputs": []
    }
  ]
}